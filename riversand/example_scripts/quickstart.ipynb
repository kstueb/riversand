{
 "cells": [
  {
   "cell_type": "markdown",
   "id": "7a9734dc",
   "metadata": {},
   "source": [
    "# A quick-start to calculating catchmentwide erosion rates\n",
    "Copy this jupyter notebook together with the folder `test_data` to any location on your computer.<br>\n",
    "Note that a folder `plots` will be created in your working directory for graphical output."
   ]
  },
  {
   "cell_type": "code",
   "execution_count": 1,
   "id": "a7e99867",
   "metadata": {},
   "outputs": [],
   "source": [
    "# Install the riversand package if you haven't done so:\n",
    "#% pip install riversand"
   ]
  },
  {
   "cell_type": "markdown",
   "id": "5da2721b",
   "metadata": {},
   "source": [
    "# Workflow\n",
    "The basic workflow consists of two steps: (1) Import and validate all input data; (2) calculate the catchmentwide erosion rates.\n",
    "\n",
    "### (1) Import and validate input data:\n",
    "#### Raster data\n",
    "You can add three types of raster datasets (geotiffs):\n",
    "\n",
    "- `'elevation'` is a digital elevation model in meters above sea level\n",
    "- `'shielding'` is a shielding factor between 0 and 1 (e.g. topographic shielding calculated with the TopoToolbox toposhielding function)\n",
    "- `'quartz'` is a binary raster with 1 indicating quartz-bearing and 0 indicating quartz-free lithologies\n",
    "\n",
    "All raster data must have the same projection and resolution. Projection must be equal area (e.g. UTM), geographic coordinate reference systems (lat/long) are not permitted. An elevation raster is mandatory.\n",
    "\n",
    "#### Sample data\n",
    "Sample and nuclide information can be added manually or imported from a spreadsheet. The requirements are those for the online calculator (see  http://stoneage.hzdr.de/docs/documentation.html#input_format).<br>\n",
    "\n",
    "Entries that are recognized (processed) by the calculator are `name`, `press_flag`, `thickness`, `density`, `shielding`, `erate`, `year`, `nuclide`, `mineral`, `N`, `delN` and `standardization`; any additional information is ignored. A detailed description of input sample data is given at the end of this notebook.\n",
    "\n",
    "#### Catchment shapefile\n",
    "Catchments are imported from a polygon shapefile with one or several catchment outlines. The shapefile must have the same projection as the raster data. The attribute table of the shapefile should include a field with unique catchment names that are used to match catchments to samples.\n",
    "\n",
    "#### Input data validation\n",
    "Use the function `.validate()` to validate projection and resolution of geospatial data and to ensure that the sample data is valid.\n",
    "\n",
    "### (2) Calculate catchmentwide erosion rates:\n",
    "There are two functions `.process_single_catchment()` and `.process_multi_catchment()` to calculate erosion rates for single-catchment and multi-catchment datasets, respectively. In addition, the function `.catchment_stats()` calculates some basic catchment statistics such as area, mean elevation, relief, etc."
   ]
  },
  {
   "cell_type": "markdown",
   "id": "c056ff6d",
   "metadata": {},
   "source": [
    "==================================================================================================\n",
    "\n",
    "\n",
    "# Example 1: Single catchment"
   ]
  },
  {
   "cell_type": "code",
   "execution_count": 2,
   "id": "d327053f",
   "metadata": {},
   "outputs": [],
   "source": [
    "import pandas as pd\n",
    "import numpy as np\n",
    "\n",
    "import riversand\n",
    "\n",
    "\n",
    "# Create a new 'Riversand' object and specify the folder with the input data:\n",
    "rv = riversand.Riversand(\"./test_data\") # subfolder in the working directory\n",
    "\n",
    "\n",
    "# Add raster data:\n",
    "rv.add_raster('dem_utm_35m.tif', dtype='elevation')\n",
    "rv.add_raster('toposhielding_35m.tif', dtype='shielding') # optional \n",
    "#rv.add_raster('quartz_35m.tif', dtype='quartz') # optional\n",
    "\n",
    "\n",
    "# Add sample data manually; see multi-catchment example for how to upload data from a spreadsheet\n",
    "test = {'name'   : 'Ph-1',   # sample name\n",
    "        'N'      : 1.2e6,    # nuclide concentration, at/g\n",
    "        'delN'   : 3.6e4,    # uncertainty, at/g\n",
    "        'nuclide': 'Be-10',  # nuclide 'Be-10' or 'Al-26'\n",
    "        'density': 2.1,      # density, g/cm3\n",
    "      }\n",
    "rv.add_samples(test) # add the sample to the project\n",
    "\n",
    "\n",
    "# Add catchment shapefile with a single catchment polygon:\n",
    "rv.add_catchments('test_single_catchment.shp')"
   ]
  },
  {
   "cell_type": "markdown",
   "id": "397692be",
   "metadata": {},
   "source": [
    "The the previous cell may result in error messages, e.g. if a file does not exist or cannot be read.\n",
    "\n",
    "Type `rv` to summarize the data that has been imported (or `rv.samples`, `rv.catchments`, `rv.elevation`, `rv.shielding`, `rv.quartz` for the individual data sets). In addition, the function `riversand.plot_raster()` can be used to quickly display the raster data."
   ]
  },
  {
   "cell_type": "code",
   "execution_count": 3,
   "id": "8c502ff0",
   "metadata": {},
   "outputs": [],
   "source": [
    "#riversand.plot_raster(rv) # defaults to elevation raster\n",
    "#riversand.plot_raster(rv, dtype='shielding') # specify which raster to plot"
   ]
  },
  {
   "cell_type": "code",
   "execution_count": 4,
   "id": "0bb1c4a5",
   "metadata": {},
   "outputs": [
    {
     "data": {
      "text/html": [
       "<div>\n",
       "<style scoped>\n",
       "    .dataframe tbody tr th:only-of-type {\n",
       "        vertical-align: middle;\n",
       "    }\n",
       "\n",
       "    .dataframe tbody tr th {\n",
       "        vertical-align: top;\n",
       "    }\n",
       "\n",
       "    .dataframe thead th {\n",
       "        text-align: right;\n",
       "    }\n",
       "</style>\n",
       "<table border=\"1\" class=\"dataframe\">\n",
       "  <thead>\n",
       "    <tr style=\"text-align: right;\">\n",
       "      <th></th>\n",
       "      <th>name</th>\n",
       "      <th>press_flag</th>\n",
       "      <th>thickness</th>\n",
       "      <th>density</th>\n",
       "      <th>shielding</th>\n",
       "      <th>erate</th>\n",
       "      <th>year</th>\n",
       "      <th>nuclide</th>\n",
       "      <th>mineral</th>\n",
       "      <th>N</th>\n",
       "      <th>delN</th>\n",
       "      <th>standardization</th>\n",
       "    </tr>\n",
       "  </thead>\n",
       "  <tbody>\n",
       "    <tr>\n",
       "      <th>0</th>\n",
       "      <td>Ph-1</td>\n",
       "      <td>std</td>\n",
       "      <td>0</td>\n",
       "      <td>2.1</td>\n",
       "      <td>1.0</td>\n",
       "      <td>0</td>\n",
       "      <td>2010</td>\n",
       "      <td>Be-10</td>\n",
       "      <td>quartz</td>\n",
       "      <td>1200000</td>\n",
       "      <td>36000</td>\n",
       "      <td>07KNSTD</td>\n",
       "    </tr>\n",
       "  </tbody>\n",
       "</table>\n",
       "</div>"
      ],
      "text/plain": [
       "   name press_flag  thickness  density  shielding  erate  year nuclide  \\\n",
       "0  Ph-1        std          0      2.1        1.0      0  2010   Be-10   \n",
       "\n",
       "  mineral        N   delN standardization  \n",
       "0  quartz  1200000  36000         07KNSTD  "
      ]
     },
     "execution_count": 4,
     "metadata": {},
     "output_type": "execute_result"
    }
   ],
   "source": [
    "rv.samples # display sample data; note that default values exist for data that are not specified"
   ]
  },
  {
   "cell_type": "code",
   "execution_count": 5,
   "id": "2035f1ed",
   "metadata": {},
   "outputs": [
    {
     "name": "stdout",
     "output_type": "stream",
     "text": [
      "\n",
      "Raster data valid\n",
      "Sample data valid\n",
      "Catchment data valid\n"
     ]
    }
   ],
   "source": [
    "# Validate the dataset:\n",
    "rv.validate()"
   ]
  },
  {
   "cell_type": "markdown",
   "id": "d55afd21",
   "metadata": {},
   "source": [
    "### Processing"
   ]
  },
  {
   "cell_type": "markdown",
   "id": "1a9763b5",
   "metadata": {},
   "source": [
    "Continue only if the dataset is validated (function `.validate()`).\n",
    "\n",
    "Use the function `.process_single_catchment()` if the shapefile contains only a single polygon; sample or catchment names are ignored. \n",
    "\n",
    "The following parameters need to be specified:\n",
    " - `bins` : bin size for elevation statistics in metres, e.g. `bins=100`.\n",
    " - `scaling` : scaling method as implemented in the online calculator: `'St'`, `'Lm'` or `'LSDn'`.\n",
    " - `shielding` : method for shielding correction:<br>\n",
    "     - `'topo'` : compute from shielding raster; raises an error if no shielding raster is defined.<br>\n",
    "     - `'sample'` : use value from sample dataset; raises an error if no shielding is defined for the sample.<br>\n",
    "     - `numeric` : use a constant value between 0 and 1.\n",
    "     \n",
    "Optional parameters:\n",
    " - `plot` : `'jpg'` or `'png'` to save plots with an automatically generated name or `'show'` to display the plots.\n",
    " - `unit` : unit of erosion rates for display; `riversand.params.units` shows all valid options.\n",
    "\n",
    "Plots are saved in a folder `plots` in the current working directory. Existing files with identical names will be overwritten."
   ]
  },
  {
   "cell_type": "code",
   "execution_count": 6,
   "id": "c2e00f50",
   "metadata": {},
   "outputs": [],
   "source": [
    "#riversand.params.units"
   ]
  },
  {
   "cell_type": "code",
   "execution_count": 7,
   "id": "6b0b63af",
   "metadata": {},
   "outputs": [
    {
     "name": "stdout",
     "output_type": "stream",
     "text": [
      "Processing single catchment\n",
      "Bin size : 100 m\n",
      "Scaling method : LSDn\n",
      "Topographic shielding from topo data\n",
      "Saving plots as .jpg in './plots'\n",
      "\n"
     ]
    }
   ],
   "source": [
    "# Process a single catchment:\n",
    "results1 = rv.process_single_catchment(bins=100,\n",
    "                                       scaling='LSDn',\n",
    "                                       shielding='topo',\n",
    "                                       plot='jpg',\n",
    "                                       unit='mm/kyr')"
   ]
  },
  {
   "attachments": {
    "image2462.png": {
     "image/png": "[encoded data removed]"
    }
   },
   "cell_type": "markdown",
   "id": "0336ae18",
   "metadata": {},
   "source": [
    "![image2462.png](attachment:image2462.png)"
   ]
  },
  {
   "cell_type": "markdown",
   "id": "60213d2f",
   "metadata": {},
   "source": [
    "If the parameter `plot` is set a **figure** is saved as `./plots/0_Ph-1_LSDn.jpg`:\n",
    "- The black points are six initial erosion rates $E$ sent to the online calculator and the nuclide concentrations $N(E)$ predicted by the online calculator.\n",
    "- The red curve is a polynomial fit $N(E)$.\n",
    "- The red point and vertical error bar are the input nuclide concentration and uncertainty of the sample $N \\pm delN$.\n",
    "- The horizontal error bar is the uncertainty on the erosion rate resulting from the analytical uncertainty $delN$; it depends on the shape of the function $N(E)$ and is therefore asymmetric.\n",
    "\n",
    "Note that the units for this plot are defined by the parameter `unit`."
   ]
  },
  {
   "cell_type": "markdown",
   "id": "64a06f4f",
   "metadata": {},
   "source": [
    "**Results table**: Erosion rate `E` and uncertainty `delE` are in cm/yr. `NRMSE` is the normalised root mean squared error.\n",
    "\n",
    "Use `.to_excel()` to save the results to Excel or OpenOffice or `.to_csv()` for comma-separated values. This may require additional packages such as `openpyxl` or `odfpy`."
   ]
  },
  {
   "cell_type": "code",
   "execution_count": 8,
   "id": "16a6e0d0",
   "metadata": {},
   "outputs": [
    {
     "data": {
      "text/html": [
       "<div>\n",
       "<style scoped>\n",
       "    .dataframe tbody tr th:only-of-type {\n",
       "        vertical-align: middle;\n",
       "    }\n",
       "\n",
       "    .dataframe tbody tr th {\n",
       "        vertical-align: top;\n",
       "    }\n",
       "\n",
       "    .dataframe thead th {\n",
       "        text-align: right;\n",
       "    }\n",
       "</style>\n",
       "<table border=\"1\" class=\"dataframe\">\n",
       "  <thead>\n",
       "    <tr style=\"text-align: right;\">\n",
       "      <th></th>\n",
       "      <th>name</th>\n",
       "      <th>scaling</th>\n",
       "      <th>nuclide</th>\n",
       "      <th>E</th>\n",
       "      <th>delE-</th>\n",
       "      <th>delE+</th>\n",
       "      <th>NRMSE</th>\n",
       "      <th>error</th>\n",
       "    </tr>\n",
       "  </thead>\n",
       "  <tbody>\n",
       "    <tr>\n",
       "      <th>0</th>\n",
       "      <td>Ph-1</td>\n",
       "      <td>LSDn</td>\n",
       "      <td>Be-10 quartz</td>\n",
       "      <td>0.001967</td>\n",
       "      <td>0.000058</td>\n",
       "      <td>0.000062</td>\n",
       "      <td>0.000012</td>\n",
       "      <td></td>\n",
       "    </tr>\n",
       "  </tbody>\n",
       "</table>\n",
       "</div>"
      ],
      "text/plain": [
       "   name scaling       nuclide         E     delE-     delE+     NRMSE error\n",
       "0  Ph-1    LSDn  Be-10 quartz  0.001967  0.000058  0.000062  0.000012      "
      ]
     },
     "execution_count": 8,
     "metadata": {},
     "output_type": "execute_result"
    }
   ],
   "source": [
    "results1 # display results (cm/yr)"
   ]
  },
  {
   "cell_type": "code",
   "execution_count": 9,
   "id": "3641e166",
   "metadata": {},
   "outputs": [],
   "source": [
    "results1.to_excel('Example1_LSDn.xlsx') # save data to spreadsheet"
   ]
  },
  {
   "cell_type": "markdown",
   "id": "ac09e56d",
   "metadata": {},
   "source": [
    "Calculate some **catchment statistics** for this catchment. Note that in this example the catchment name (`.cid`) has not been specified (see below)."
   ]
  },
  {
   "cell_type": "code",
   "execution_count": 10,
   "id": "edf13063",
   "metadata": {
    "scrolled": true
   },
   "outputs": [
    {
     "name": "stdout",
     "output_type": "stream",
     "text": [
      "Processing  finished.\n"
     ]
    },
    {
     "data": {
      "text/html": [
       "<div>\n",
       "<style scoped>\n",
       "    .dataframe tbody tr th:only-of-type {\n",
       "        vertical-align: middle;\n",
       "    }\n",
       "\n",
       "    .dataframe tbody tr th {\n",
       "        vertical-align: top;\n",
       "    }\n",
       "\n",
       "    .dataframe thead th {\n",
       "        text-align: right;\n",
       "    }\n",
       "</style>\n",
       "<table border=\"1\" class=\"dataframe\">\n",
       "  <thead>\n",
       "    <tr style=\"text-align: right;\">\n",
       "      <th></th>\n",
       "      <th>name</th>\n",
       "      <th>centr_lat</th>\n",
       "      <th>centr_long</th>\n",
       "      <th>centr_elev</th>\n",
       "      <th>relief</th>\n",
       "      <th>area</th>\n",
       "      <th>mean_sf</th>\n",
       "      <th>qtz_pc</th>\n",
       "    </tr>\n",
       "  </thead>\n",
       "  <tbody>\n",
       "    <tr>\n",
       "      <th>0</th>\n",
       "      <td></td>\n",
       "      <td>45.599736</td>\n",
       "      <td>7.348074</td>\n",
       "      <td>2453.679443</td>\n",
       "      <td>3382.0</td>\n",
       "      <td>257.59055</td>\n",
       "      <td>0.923094</td>\n",
       "      <td>NaN</td>\n",
       "    </tr>\n",
       "  </tbody>\n",
       "</table>\n",
       "</div>"
      ],
      "text/plain": [
       "  name  centr_lat centr_long   centr_elev  relief       area   mean_sf qtz_pc\n",
       "0       45.599736   7.348074  2453.679443  3382.0  257.59055  0.923094    NaN"
      ]
     },
     "execution_count": 10,
     "metadata": {},
     "output_type": "execute_result"
    }
   ],
   "source": [
    "stats1 = rv.catchment_stats()\n",
    "stats1 # display catchment statistics"
   ]
  },
  {
   "cell_type": "markdown",
   "id": "aea7f31f",
   "metadata": {},
   "source": [
    "# Example 2: Same catchment, different settings\n",
    "Repeat the analysis with a **correction for quartz-free lithologies** and with a **constant shielding factor** of 0.95. The previous plots will be overwritten."
   ]
  },
  {
   "cell_type": "code",
   "execution_count": 11,
   "id": "4338b765",
   "metadata": {},
   "outputs": [
    {
     "name": "stdout",
     "output_type": "stream",
     "text": [
      "\n",
      "Raster data valid\n",
      "Sample data valid\n",
      "Catchment data valid\n"
     ]
    }
   ],
   "source": [
    "# Add a quartz raster dataset:\n",
    "rv.add_raster('quartz_35m.tif', dtype='quartz')\n",
    "rv.validate()"
   ]
  },
  {
   "cell_type": "code",
   "execution_count": 12,
   "id": "864426a8",
   "metadata": {
    "scrolled": true
   },
   "outputs": [
    {
     "name": "stdout",
     "output_type": "stream",
     "text": [
      "Processing single catchment\n",
      "Bin size : 100 m\n",
      "Scaling method : LSDn\n",
      "Topographic shielding : 0.95\n",
      "Correcting for quartz-free lithologies\n",
      "Saving plots as .jpg in './plots'\n",
      "\n",
      "Removed 61.9 % of the catchment as quartz-free\n"
     ]
    },
    {
     "data": {
      "text/html": [
       "<div>\n",
       "<style scoped>\n",
       "    .dataframe tbody tr th:only-of-type {\n",
       "        vertical-align: middle;\n",
       "    }\n",
       "\n",
       "    .dataframe tbody tr th {\n",
       "        vertical-align: top;\n",
       "    }\n",
       "\n",
       "    .dataframe thead th {\n",
       "        text-align: right;\n",
       "    }\n",
       "</style>\n",
       "<table border=\"1\" class=\"dataframe\">\n",
       "  <thead>\n",
       "    <tr style=\"text-align: right;\">\n",
       "      <th></th>\n",
       "      <th>name</th>\n",
       "      <th>scaling</th>\n",
       "      <th>nuclide</th>\n",
       "      <th>E</th>\n",
       "      <th>delE-</th>\n",
       "      <th>delE+</th>\n",
       "      <th>NRMSE</th>\n",
       "      <th>error</th>\n",
       "    </tr>\n",
       "  </thead>\n",
       "  <tbody>\n",
       "    <tr>\n",
       "      <th>0</th>\n",
       "      <td>Ph-1</td>\n",
       "      <td>LSDn</td>\n",
       "      <td>Be-10 quartz</td>\n",
       "      <td>0.00167</td>\n",
       "      <td>0.000049</td>\n",
       "      <td>0.000052</td>\n",
       "      <td>0.000114</td>\n",
       "      <td></td>\n",
       "    </tr>\n",
       "  </tbody>\n",
       "</table>\n",
       "</div>"
      ],
      "text/plain": [
       "   name scaling       nuclide        E     delE-     delE+     NRMSE error\n",
       "0  Ph-1    LSDn  Be-10 quartz  0.00167  0.000049  0.000052  0.000114      "
      ]
     },
     "execution_count": 12,
     "metadata": {},
     "output_type": "execute_result"
    }
   ],
   "source": [
    "# Process with a constant shielding factor 'shielding=0.95':\n",
    "results2 = rv.process_single_catchment(bins=100,\n",
    "                                       scaling='LSDn',\n",
    "                                       shielding=0.95,\n",
    "                                       plot='jpg',\n",
    "                                       unit='mm/kyr')\n",
    "results2 # display results (cm/yr)"
   ]
  },
  {
   "cell_type": "markdown",
   "id": "a4029227",
   "metadata": {},
   "source": [
    "==================================================================================================\n",
    "\n",
    "# Example 3: Multi-catchment dataset\n",
    "\n",
    "To process a shapefile with more than one catchment polygon import sample data from a spreasdsheet. The spreadsheet must have a column `name` with sample names that are used to match samples to catchment polygons. Use the function `.set_cid()` to specify, which attribute field of the shapefile to use for catchment names."
   ]
  },
  {
   "cell_type": "code",
   "execution_count": 13,
   "id": "c3831d17",
   "metadata": {},
   "outputs": [
    {
     "name": "stdout",
     "output_type": "stream",
     "text": [
      "\n",
      "Raster data valid\n",
      "Sample data valid\n",
      "Catchment data valid\n",
      "\n",
      "Valid catchments / samples:\n",
      "   Found 5 match(es)\n"
     ]
    }
   ],
   "source": [
    "# Create a new Riversand object:\n",
    "rv = riversand.Riversand(\"./test_data\")\n",
    "\n",
    "# Add raster data:\n",
    "rv.add_raster('dem_utm_35m.tif', dtype='elevation') \n",
    "rv.add_raster('toposhielding_35m.tif', dtype='shielding') # optional\n",
    "rv.add_raster('quartz_35m.tif', dtype='quartz') # optional\n",
    "\n",
    "# Add sample data from a spreadsheet:\n",
    "rv.add_samples('test_samples.ods') # .xlsx, .ods, .csv\n",
    "\n",
    "\n",
    "# Add catchment shapefile with one or several catchment polygons:\n",
    "rv.add_catchments('test_multi_catchment.shp')\n",
    "# Set the catchment identifier:\n",
    "rv.set_cid('name') # mandatory for shapefiles with more than one catchment\n",
    "\n",
    "rv.validate()"
   ]
  },
  {
   "cell_type": "code",
   "execution_count": 14,
   "id": "465ff7d4",
   "metadata": {},
   "outputs": [
    {
     "data": {
      "text/html": [
       "<div>\n",
       "<style scoped>\n",
       "    .dataframe tbody tr th:only-of-type {\n",
       "        vertical-align: middle;\n",
       "    }\n",
       "\n",
       "    .dataframe tbody tr th {\n",
       "        vertical-align: top;\n",
       "    }\n",
       "\n",
       "    .dataframe thead th {\n",
       "        text-align: right;\n",
       "    }\n",
       "</style>\n",
       "<table border=\"1\" class=\"dataframe\">\n",
       "  <thead>\n",
       "    <tr style=\"text-align: right;\">\n",
       "      <th></th>\n",
       "      <th>name</th>\n",
       "      <th>density</th>\n",
       "      <th>shielding</th>\n",
       "      <th>nuclide</th>\n",
       "      <th>N</th>\n",
       "      <th>delN</th>\n",
       "      <th>lat</th>\n",
       "      <th>long</th>\n",
       "      <th>elev</th>\n",
       "    </tr>\n",
       "  </thead>\n",
       "  <tbody>\n",
       "    <tr>\n",
       "      <th>0</th>\n",
       "      <td>DB01</td>\n",
       "      <td>2.7</td>\n",
       "      <td>0.92</td>\n",
       "      <td>Be-10</td>\n",
       "      <td>12900</td>\n",
       "      <td>700</td>\n",
       "      <td>45.8040</td>\n",
       "      <td>6.9653</td>\n",
       "      <td>1230</td>\n",
       "    </tr>\n",
       "    <tr>\n",
       "      <th>1</th>\n",
       "      <td>DB02</td>\n",
       "      <td>2.7</td>\n",
       "      <td>0.94</td>\n",
       "      <td>Be-10</td>\n",
       "      <td>10800</td>\n",
       "      <td>700</td>\n",
       "      <td>45.7167</td>\n",
       "      <td>7.1101</td>\n",
       "      <td>783</td>\n",
       "    </tr>\n",
       "    <tr>\n",
       "      <th>2</th>\n",
       "      <td>DB03</td>\n",
       "      <td>2.7</td>\n",
       "      <td>0.94</td>\n",
       "      <td>Be-10</td>\n",
       "      <td>23500</td>\n",
       "      <td>1400</td>\n",
       "      <td>45.6925</td>\n",
       "      <td>7.1935</td>\n",
       "      <td>699</td>\n",
       "    </tr>\n",
       "    <tr>\n",
       "      <th>3</th>\n",
       "      <td>DB04</td>\n",
       "      <td>2.7</td>\n",
       "      <td>0.94</td>\n",
       "      <td>Be-10</td>\n",
       "      <td>22000</td>\n",
       "      <td>1100</td>\n",
       "      <td>45.7003</td>\n",
       "      <td>7.2019</td>\n",
       "      <td>664</td>\n",
       "    </tr>\n",
       "    <tr>\n",
       "      <th>4</th>\n",
       "      <td>DB05</td>\n",
       "      <td>2.7</td>\n",
       "      <td>0.95</td>\n",
       "      <td>Be-10</td>\n",
       "      <td>20500</td>\n",
       "      <td>1000</td>\n",
       "      <td>45.7001</td>\n",
       "      <td>7.2337</td>\n",
       "      <td>638</td>\n",
       "    </tr>\n",
       "    <tr>\n",
       "      <th>5</th>\n",
       "      <td>DB06</td>\n",
       "      <td>2.7</td>\n",
       "      <td>0.95</td>\n",
       "      <td>Be-10</td>\n",
       "      <td>15400</td>\n",
       "      <td>800</td>\n",
       "      <td>45.5228</td>\n",
       "      <td>7.8375</td>\n",
       "      <td>251</td>\n",
       "    </tr>\n",
       "    <tr>\n",
       "      <th>6</th>\n",
       "      <td>DB07</td>\n",
       "      <td>2.7</td>\n",
       "      <td>0.95</td>\n",
       "      <td>Be-10</td>\n",
       "      <td>22500</td>\n",
       "      <td>2600</td>\n",
       "      <td>45.5962</td>\n",
       "      <td>7.7956</td>\n",
       "      <td>325</td>\n",
       "    </tr>\n",
       "    <tr>\n",
       "      <th>7</th>\n",
       "      <td>DB08</td>\n",
       "      <td>2.7</td>\n",
       "      <td>0.96</td>\n",
       "      <td>Be-10</td>\n",
       "      <td>48500</td>\n",
       "      <td>2100</td>\n",
       "      <td>45.6118</td>\n",
       "      <td>7.7310</td>\n",
       "      <td>373</td>\n",
       "    </tr>\n",
       "    <tr>\n",
       "      <th>8</th>\n",
       "      <td>DB12</td>\n",
       "      <td>2.7</td>\n",
       "      <td>0.95</td>\n",
       "      <td>Be-10</td>\n",
       "      <td>12600</td>\n",
       "      <td>800</td>\n",
       "      <td>45.7183</td>\n",
       "      <td>7.2651</td>\n",
       "      <td>594</td>\n",
       "    </tr>\n",
       "    <tr>\n",
       "      <th>9</th>\n",
       "      <td>DB17</td>\n",
       "      <td>2.7</td>\n",
       "      <td>0.95</td>\n",
       "      <td>Be-10</td>\n",
       "      <td>27100</td>\n",
       "      <td>1300</td>\n",
       "      <td>45.7039</td>\n",
       "      <td>7.1622</td>\n",
       "      <td>689</td>\n",
       "    </tr>\n",
       "  </tbody>\n",
       "</table>\n",
       "</div>"
      ],
      "text/plain": [
       "   name  density  shielding nuclide      N  delN      lat    long  elev\n",
       "0  DB01      2.7       0.92   Be-10  12900   700  45.8040  6.9653  1230\n",
       "1  DB02      2.7       0.94   Be-10  10800   700  45.7167  7.1101   783\n",
       "2  DB03      2.7       0.94   Be-10  23500  1400  45.6925  7.1935   699\n",
       "3  DB04      2.7       0.94   Be-10  22000  1100  45.7003  7.2019   664\n",
       "4  DB05      2.7       0.95   Be-10  20500  1000  45.7001  7.2337   638\n",
       "5  DB06      2.7       0.95   Be-10  15400   800  45.5228  7.8375   251\n",
       "6  DB07      2.7       0.95   Be-10  22500  2600  45.5962  7.7956   325\n",
       "7  DB08      2.7       0.96   Be-10  48500  2100  45.6118  7.7310   373\n",
       "8  DB12      2.7       0.95   Be-10  12600   800  45.7183  7.2651   594\n",
       "9  DB17      2.7       0.95   Be-10  27100  1300  45.7039  7.1622   689"
      ]
     },
     "execution_count": 14,
     "metadata": {},
     "output_type": "execute_result"
    }
   ],
   "source": [
    "rv.samples"
   ]
  },
  {
   "cell_type": "markdown",
   "id": "ff51911f",
   "metadata": {},
   "source": [
    "For a multi-catchment dataset the function `.validate()` displays how many catchments with matching sample data have been found. The valid catchment names are stored in `.valid_catchments` (also function `.get_valid_catchments()`).\n",
    "\n",
    "If the result is not what you expect the following functions / variables help trouble-shooting:\n",
    "- `.catchments.get_names()` : show all catchment names; note that non-unique names are invalid\n",
    "- `.samples` or `.samples.name` : display all sample names\n",
    "- `.catchments.cid` : display the attribute field used for catchment names\n",
    "- `.catchments.attrs` : display all available attribute fields"
   ]
  },
  {
   "cell_type": "code",
   "execution_count": 15,
   "id": "c13f2073",
   "metadata": {},
   "outputs": [
    {
     "data": {
      "text/plain": [
       "['DB02', 'DB03', 'DB04', 'DB05', 'DB17']"
      ]
     },
     "execution_count": 15,
     "metadata": {},
     "output_type": "execute_result"
    }
   ],
   "source": [
    "#rv.get_valid_catchments() # get all valid catchments\n",
    "rv.valid_catchments # display valid catchments\n",
    "#rv.samples # display sample data\n",
    "#rv.catchments.cid # display catchment identifier\n",
    "#rv.catchments.attrs # display all attribute fields of the shapefile"
   ]
  },
  {
   "cell_type": "markdown",
   "id": "c308e07b",
   "metadata": {},
   "source": [
    "### Multi-catchment processing\n",
    "\n",
    "The function `.process_multi_catchment()` is equivalent to the single-catchment processing but iterates over all samples and computes erosion rates for matching catchment-sample pairs."
   ]
  },
  {
   "cell_type": "code",
   "execution_count": 16,
   "id": "633a4417",
   "metadata": {},
   "outputs": [
    {
     "name": "stdout",
     "output_type": "stream",
     "text": [
      "Processing multi-catchment dataset\n",
      "Bin size : 100 m\n",
      "Scaling method : LSDn\n",
      "Topographic shielding from topo data\n",
      "Correcting for quartz-free lithologies\n",
      "Saving plots as .jpg in './plots'\n",
      "\n",
      "\n",
      " 0 DB01 : no catchment polygon\n",
      " 1 DB02 : catchment out of bounds\n",
      " 2 DB03 : 789.6+/-51.1 mm/kyr\n",
      " 3 DB04 : 829.8+/-44.7 mm/kyr\n",
      " 4 DB05 : 763.9+/-39.9 mm/kyr\n",
      " 5 DB06 : no catchment polygon\n",
      " 6 DB07 : no catchment polygon\n",
      " 7 DB08 : no catchment polygon\n",
      " 8 DB12 : no catchment polygon\n",
      " 9 DB17 : 679.3+/-34.6 mm/kyr\n"
     ]
    }
   ],
   "source": [
    "# Process a multi-catchment dataset:\n",
    "results = rv.process_multi_catchment(bins=100,\n",
    "                                     scaling='LSDn', # 'St', 'Lm' or 'LSDn'\n",
    "                                     shielding='topo', # 'topo', 'sample' or numeric\n",
    "                                     unit='mm/kyr', # units for plotting\n",
    "                                     plot='jpg') # 'jpg' or 'png'"
   ]
  },
  {
   "cell_type": "code",
   "execution_count": 17,
   "id": "1e8b314a",
   "metadata": {
    "scrolled": false
   },
   "outputs": [
    {
     "data": {
      "text/html": [
       "<div>\n",
       "<style scoped>\n",
       "    .dataframe tbody tr th:only-of-type {\n",
       "        vertical-align: middle;\n",
       "    }\n",
       "\n",
       "    .dataframe tbody tr th {\n",
       "        vertical-align: top;\n",
       "    }\n",
       "\n",
       "    .dataframe thead th {\n",
       "        text-align: right;\n",
       "    }\n",
       "</style>\n",
       "<table border=\"1\" class=\"dataframe\">\n",
       "  <thead>\n",
       "    <tr style=\"text-align: right;\">\n",
       "      <th></th>\n",
       "      <th>name</th>\n",
       "      <th>scaling</th>\n",
       "      <th>nuclide</th>\n",
       "      <th>qtz</th>\n",
       "      <th>E</th>\n",
       "      <th>delE-</th>\n",
       "      <th>delE+</th>\n",
       "      <th>NRMSE</th>\n",
       "      <th>error</th>\n",
       "    </tr>\n",
       "  </thead>\n",
       "  <tbody>\n",
       "    <tr>\n",
       "      <th>0</th>\n",
       "      <td>DB01</td>\n",
       "      <td>LSDn</td>\n",
       "      <td>Be-10 quartz</td>\n",
       "      <td>100</td>\n",
       "      <td>NaN</td>\n",
       "      <td>NaN</td>\n",
       "      <td>NaN</td>\n",
       "      <td>NaN</td>\n",
       "      <td>no catchment polygon</td>\n",
       "    </tr>\n",
       "    <tr>\n",
       "      <th>1</th>\n",
       "      <td>DB02</td>\n",
       "      <td>LSDn</td>\n",
       "      <td>Be-10 quartz</td>\n",
       "      <td>100</td>\n",
       "      <td>NaN</td>\n",
       "      <td>NaN</td>\n",
       "      <td>NaN</td>\n",
       "      <td>NaN</td>\n",
       "      <td>catchment out of bounds</td>\n",
       "    </tr>\n",
       "    <tr>\n",
       "      <th>2</th>\n",
       "      <td>DB03</td>\n",
       "      <td>LSDn</td>\n",
       "      <td>Be-10 quartz</td>\n",
       "      <td>55.428851</td>\n",
       "      <td>0.07896</td>\n",
       "      <td>0.004502</td>\n",
       "      <td>0.005113</td>\n",
       "      <td>0.000159</td>\n",
       "      <td></td>\n",
       "    </tr>\n",
       "    <tr>\n",
       "      <th>3</th>\n",
       "      <td>DB04</td>\n",
       "      <td>LSDn</td>\n",
       "      <td>Be-10 quartz</td>\n",
       "      <td>68.534972</td>\n",
       "      <td>0.082983</td>\n",
       "      <td>0.004026</td>\n",
       "      <td>0.004468</td>\n",
       "      <td>0.000224</td>\n",
       "      <td></td>\n",
       "    </tr>\n",
       "    <tr>\n",
       "      <th>4</th>\n",
       "      <td>DB05</td>\n",
       "      <td>LSDn</td>\n",
       "      <td>Be-10 quartz</td>\n",
       "      <td>38.067225</td>\n",
       "      <td>0.076386</td>\n",
       "      <td>0.003608</td>\n",
       "      <td>0.003987</td>\n",
       "      <td>0.000363</td>\n",
       "      <td></td>\n",
       "    </tr>\n",
       "    <tr>\n",
       "      <th>5</th>\n",
       "      <td>DB06</td>\n",
       "      <td>LSDn</td>\n",
       "      <td>Be-10 quartz</td>\n",
       "      <td>100</td>\n",
       "      <td>NaN</td>\n",
       "      <td>NaN</td>\n",
       "      <td>NaN</td>\n",
       "      <td>NaN</td>\n",
       "      <td>no catchment polygon</td>\n",
       "    </tr>\n",
       "    <tr>\n",
       "      <th>6</th>\n",
       "      <td>DB07</td>\n",
       "      <td>LSDn</td>\n",
       "      <td>Be-10 quartz</td>\n",
       "      <td>100</td>\n",
       "      <td>NaN</td>\n",
       "      <td>NaN</td>\n",
       "      <td>NaN</td>\n",
       "      <td>NaN</td>\n",
       "      <td>no catchment polygon</td>\n",
       "    </tr>\n",
       "    <tr>\n",
       "      <th>7</th>\n",
       "      <td>DB08</td>\n",
       "      <td>LSDn</td>\n",
       "      <td>Be-10 quartz</td>\n",
       "      <td>100</td>\n",
       "      <td>NaN</td>\n",
       "      <td>NaN</td>\n",
       "      <td>NaN</td>\n",
       "      <td>NaN</td>\n",
       "      <td>no catchment polygon</td>\n",
       "    </tr>\n",
       "    <tr>\n",
       "      <th>8</th>\n",
       "      <td>DB12</td>\n",
       "      <td>LSDn</td>\n",
       "      <td>Be-10 quartz</td>\n",
       "      <td>100</td>\n",
       "      <td>NaN</td>\n",
       "      <td>NaN</td>\n",
       "      <td>NaN</td>\n",
       "      <td>NaN</td>\n",
       "      <td>no catchment polygon</td>\n",
       "    </tr>\n",
       "    <tr>\n",
       "      <th>9</th>\n",
       "      <td>DB17</td>\n",
       "      <td>LSDn</td>\n",
       "      <td>Be-10 quartz</td>\n",
       "      <td>91.615061</td>\n",
       "      <td>0.06793</td>\n",
       "      <td>0.003154</td>\n",
       "      <td>0.00346</td>\n",
       "      <td>0.000014</td>\n",
       "      <td></td>\n",
       "    </tr>\n",
       "  </tbody>\n",
       "</table>\n",
       "</div>"
      ],
      "text/plain": [
       "   name scaling       nuclide        qtz         E     delE-     delE+  \\\n",
       "0  DB01    LSDn  Be-10 quartz        100       NaN       NaN       NaN   \n",
       "1  DB02    LSDn  Be-10 quartz        100       NaN       NaN       NaN   \n",
       "2  DB03    LSDn  Be-10 quartz  55.428851   0.07896  0.004502  0.005113   \n",
       "3  DB04    LSDn  Be-10 quartz  68.534972  0.082983  0.004026  0.004468   \n",
       "4  DB05    LSDn  Be-10 quartz  38.067225  0.076386  0.003608  0.003987   \n",
       "5  DB06    LSDn  Be-10 quartz        100       NaN       NaN       NaN   \n",
       "6  DB07    LSDn  Be-10 quartz        100       NaN       NaN       NaN   \n",
       "7  DB08    LSDn  Be-10 quartz        100       NaN       NaN       NaN   \n",
       "8  DB12    LSDn  Be-10 quartz        100       NaN       NaN       NaN   \n",
       "9  DB17    LSDn  Be-10 quartz  91.615061   0.06793  0.003154   0.00346   \n",
       "\n",
       "      NRMSE                    error  \n",
       "0       NaN     no catchment polygon  \n",
       "1       NaN  catchment out of bounds  \n",
       "2  0.000159                           \n",
       "3  0.000224                           \n",
       "4  0.000363                           \n",
       "5       NaN     no catchment polygon  \n",
       "6       NaN     no catchment polygon  \n",
       "7       NaN     no catchment polygon  \n",
       "8       NaN     no catchment polygon  \n",
       "9  0.000014                           "
      ]
     },
     "execution_count": 17,
     "metadata": {},
     "output_type": "execute_result"
    }
   ],
   "source": [
    "results # display results (cm/yr)"
   ]
  },
  {
   "cell_type": "markdown",
   "id": "b39c108f",
   "metadata": {},
   "source": [
    "**Results table**:\n",
    "\n",
    "- `E`, `delE+` and `delE-` are the catchmentwide erosion rate and (asymmetric) uncertainty in cm/yr.\n",
    "- `NRMSE` is the normalized root mean squared error; a warning is issued for samples with NRMSE>1e-3 indicating a poor fit of the polynomial function.\n",
    "- If a quartz raster is available, the column `qtz` shows the quartz-bearing area of the catchment in percent.\n",
    "- `error` indicates errors or warnings that may have occurred during the calculation.\n",
    "\n",
    "The table has the same ordering of the samples as the input table `rv.samples` for easy merging of the spreadsheets.\n",
    "\n",
    "Drop empty rows with `results = results[results['E'].notna()]` if desired.\n",
    "\n",
    "Catchment statistics (function `.catchment_stats()`) are calculated for all catchments regardless of duplicate catchment names or missing sample data, but if the shapefile has more than one catchment polygon the catchment identifier (`cid`) must be set."
   ]
  },
  {
   "cell_type": "code",
   "execution_count": 18,
   "id": "e1beaf02",
   "metadata": {},
   "outputs": [],
   "source": [
    "results.to_excel('Example3_LSDn.xlsx') # save data to spreadsheet"
   ]
  },
  {
   "cell_type": "code",
   "execution_count": 19,
   "id": "d6e3f476",
   "metadata": {},
   "outputs": [
    {
     "data": {
      "text/html": [
       "<div>\n",
       "<style scoped>\n",
       "    .dataframe tbody tr th:only-of-type {\n",
       "        vertical-align: middle;\n",
       "    }\n",
       "\n",
       "    .dataframe tbody tr th {\n",
       "        vertical-align: top;\n",
       "    }\n",
       "\n",
       "    .dataframe thead th {\n",
       "        text-align: right;\n",
       "    }\n",
       "</style>\n",
       "<table border=\"1\" class=\"dataframe\">\n",
       "  <thead>\n",
       "    <tr style=\"text-align: right;\">\n",
       "      <th></th>\n",
       "      <th>name</th>\n",
       "      <th>scaling</th>\n",
       "      <th>nuclide</th>\n",
       "      <th>qtz</th>\n",
       "      <th>E</th>\n",
       "      <th>delE-</th>\n",
       "      <th>delE+</th>\n",
       "      <th>NRMSE</th>\n",
       "      <th>error</th>\n",
       "    </tr>\n",
       "  </thead>\n",
       "  <tbody>\n",
       "    <tr>\n",
       "      <th>2</th>\n",
       "      <td>DB03</td>\n",
       "      <td>LSDn</td>\n",
       "      <td>Be-10 quartz</td>\n",
       "      <td>55.428851</td>\n",
       "      <td>0.07896</td>\n",
       "      <td>0.004502</td>\n",
       "      <td>0.005113</td>\n",
       "      <td>0.000159</td>\n",
       "      <td></td>\n",
       "    </tr>\n",
       "    <tr>\n",
       "      <th>3</th>\n",
       "      <td>DB04</td>\n",
       "      <td>LSDn</td>\n",
       "      <td>Be-10 quartz</td>\n",
       "      <td>68.534972</td>\n",
       "      <td>0.082983</td>\n",
       "      <td>0.004026</td>\n",
       "      <td>0.004468</td>\n",
       "      <td>0.000224</td>\n",
       "      <td></td>\n",
       "    </tr>\n",
       "    <tr>\n",
       "      <th>4</th>\n",
       "      <td>DB05</td>\n",
       "      <td>LSDn</td>\n",
       "      <td>Be-10 quartz</td>\n",
       "      <td>38.067225</td>\n",
       "      <td>0.076386</td>\n",
       "      <td>0.003608</td>\n",
       "      <td>0.003987</td>\n",
       "      <td>0.000363</td>\n",
       "      <td></td>\n",
       "    </tr>\n",
       "    <tr>\n",
       "      <th>9</th>\n",
       "      <td>DB17</td>\n",
       "      <td>LSDn</td>\n",
       "      <td>Be-10 quartz</td>\n",
       "      <td>91.615061</td>\n",
       "      <td>0.06793</td>\n",
       "      <td>0.003154</td>\n",
       "      <td>0.00346</td>\n",
       "      <td>0.000014</td>\n",
       "      <td></td>\n",
       "    </tr>\n",
       "  </tbody>\n",
       "</table>\n",
       "</div>"
      ],
      "text/plain": [
       "   name scaling       nuclide        qtz         E     delE-     delE+  \\\n",
       "2  DB03    LSDn  Be-10 quartz  55.428851   0.07896  0.004502  0.005113   \n",
       "3  DB04    LSDn  Be-10 quartz  68.534972  0.082983  0.004026  0.004468   \n",
       "4  DB05    LSDn  Be-10 quartz  38.067225  0.076386  0.003608  0.003987   \n",
       "9  DB17    LSDn  Be-10 quartz  91.615061   0.06793  0.003154   0.00346   \n",
       "\n",
       "      NRMSE error  \n",
       "2  0.000159        \n",
       "3  0.000224        \n",
       "4  0.000363        \n",
       "9  0.000014        "
      ]
     },
     "execution_count": 19,
     "metadata": {},
     "output_type": "execute_result"
    }
   ],
   "source": [
    "# same table without the empty rows\n",
    "results = results[results['E'].notna()]\n",
    "results"
   ]
  },
  {
   "cell_type": "code",
   "execution_count": 20,
   "id": "218846dd",
   "metadata": {},
   "outputs": [
    {
     "name": "stdout",
     "output_type": "stream",
     "text": [
      "Processing DB03, DB04, DB02, DB05, DB19, DB17, DB12, DB12 finished.\n"
     ]
    },
    {
     "data": {
      "text/html": [
       "<div>\n",
       "<style scoped>\n",
       "    .dataframe tbody tr th:only-of-type {\n",
       "        vertical-align: middle;\n",
       "    }\n",
       "\n",
       "    .dataframe tbody tr th {\n",
       "        vertical-align: top;\n",
       "    }\n",
       "\n",
       "    .dataframe thead th {\n",
       "        text-align: right;\n",
       "    }\n",
       "</style>\n",
       "<table border=\"1\" class=\"dataframe\">\n",
       "  <thead>\n",
       "    <tr style=\"text-align: right;\">\n",
       "      <th></th>\n",
       "      <th>name</th>\n",
       "      <th>centr_lat</th>\n",
       "      <th>centr_long</th>\n",
       "      <th>centr_elev</th>\n",
       "      <th>relief</th>\n",
       "      <th>area</th>\n",
       "      <th>mean_sf</th>\n",
       "      <th>qtz_pc</th>\n",
       "      <th>error</th>\n",
       "    </tr>\n",
       "  </thead>\n",
       "  <tbody>\n",
       "    <tr>\n",
       "      <th>1</th>\n",
       "      <td>DB03</td>\n",
       "      <td>45.555412</td>\n",
       "      <td>7.196675</td>\n",
       "      <td>2424.838135</td>\n",
       "      <td>2911.0</td>\n",
       "      <td>81.872875</td>\n",
       "      <td>0.92011</td>\n",
       "      <td>55.428851</td>\n",
       "      <td>NaN</td>\n",
       "    </tr>\n",
       "    <tr>\n",
       "      <th>2</th>\n",
       "      <td>DB04</td>\n",
       "      <td>45.562243</td>\n",
       "      <td>7.151749</td>\n",
       "      <td>2397.351318</td>\n",
       "      <td>2961.0</td>\n",
       "      <td>192.3887</td>\n",
       "      <td>0.920233</td>\n",
       "      <td>68.534972</td>\n",
       "      <td>NaN</td>\n",
       "    </tr>\n",
       "    <tr>\n",
       "      <th>3</th>\n",
       "      <td>DB05</td>\n",
       "      <td>45.640241</td>\n",
       "      <td>7.308335</td>\n",
       "      <td>2175.677246</td>\n",
       "      <td>2818.0</td>\n",
       "      <td>98.057575</td>\n",
       "      <td>0.917904</td>\n",
       "      <td>38.067225</td>\n",
       "      <td>NaN</td>\n",
       "    </tr>\n",
       "    <tr>\n",
       "      <th>6</th>\n",
       "      <td>DB17</td>\n",
       "      <td>45.607522</td>\n",
       "      <td>7.054166</td>\n",
       "      <td>2417.653076</td>\n",
       "      <td>2985.0</td>\n",
       "      <td>144.9812</td>\n",
       "      <td>0.93132</td>\n",
       "      <td>91.615061</td>\n",
       "      <td>NaN</td>\n",
       "    </tr>\n",
       "  </tbody>\n",
       "</table>\n",
       "</div>"
      ],
      "text/plain": [
       "   name  centr_lat centr_long   centr_elev  relief       area   mean_sf  \\\n",
       "1  DB03  45.555412   7.196675  2424.838135  2911.0  81.872875   0.92011   \n",
       "2  DB04  45.562243   7.151749  2397.351318  2961.0   192.3887  0.920233   \n",
       "3  DB05  45.640241   7.308335  2175.677246  2818.0  98.057575  0.917904   \n",
       "6  DB17  45.607522   7.054166  2417.653076  2985.0   144.9812   0.93132   \n",
       "\n",
       "      qtz_pc error  \n",
       "1  55.428851   NaN  \n",
       "2  68.534972   NaN  \n",
       "3  38.067225   NaN  \n",
       "6  91.615061   NaN  "
      ]
     },
     "execution_count": 20,
     "metadata": {},
     "output_type": "execute_result"
    }
   ],
   "source": [
    "stats3 = rv.catchment_stats()\n",
    "stats3 = stats3[stats3['centr_elev'].notna()] # remove empty rows\n",
    "stats3 # display catchment statistics"
   ]
  },
  {
   "cell_type": "code",
   "execution_count": 21,
   "id": "d5a713e9",
   "metadata": {
    "scrolled": true
   },
   "outputs": [
    {
     "name": "stdout",
     "output_type": "stream",
     "text": [
      "Processing DB03, DB04, DB02, DB05, DB19, DB17, DB12, DB12 finished.\n"
     ]
    },
    {
     "data": {
      "text/html": [
       "<div>\n",
       "<style scoped>\n",
       "    .dataframe tbody tr th:only-of-type {\n",
       "        vertical-align: middle;\n",
       "    }\n",
       "\n",
       "    .dataframe tbody tr th {\n",
       "        vertical-align: top;\n",
       "    }\n",
       "\n",
       "    .dataframe thead th {\n",
       "        text-align: right;\n",
       "    }\n",
       "</style>\n",
       "<table border=\"1\" class=\"dataframe\">\n",
       "  <thead>\n",
       "    <tr style=\"text-align: right;\">\n",
       "      <th></th>\n",
       "      <th>name</th>\n",
       "      <th>centr_lat</th>\n",
       "      <th>centr_long</th>\n",
       "      <th>centr_elev</th>\n",
       "      <th>relief</th>\n",
       "      <th>area</th>\n",
       "      <th>mean_sf</th>\n",
       "      <th>qtz_pc</th>\n",
       "      <th>error</th>\n",
       "    </tr>\n",
       "  </thead>\n",
       "  <tbody>\n",
       "    <tr>\n",
       "      <th>1</th>\n",
       "      <td>DB03</td>\n",
       "      <td>45.559216</td>\n",
       "      <td>7.208848</td>\n",
       "      <td>2509.038574</td>\n",
       "      <td>3307.0</td>\n",
       "      <td>147.70805</td>\n",
       "      <td>0.92084</td>\n",
       "      <td>NaN</td>\n",
       "      <td>NaN</td>\n",
       "    </tr>\n",
       "    <tr>\n",
       "      <th>2</th>\n",
       "      <td>DB04</td>\n",
       "      <td>45.564702</td>\n",
       "      <td>7.167557</td>\n",
       "      <td>2447.161865</td>\n",
       "      <td>3357.0</td>\n",
       "      <td>280.7161</td>\n",
       "      <td>0.918918</td>\n",
       "      <td>NaN</td>\n",
       "      <td>NaN</td>\n",
       "    </tr>\n",
       "    <tr>\n",
       "      <th>3</th>\n",
       "      <td>DB05</td>\n",
       "      <td>45.599736</td>\n",
       "      <td>7.348074</td>\n",
       "      <td>2453.679443</td>\n",
       "      <td>3382.0</td>\n",
       "      <td>257.59055</td>\n",
       "      <td>0.923094</td>\n",
       "      <td>NaN</td>\n",
       "      <td>NaN</td>\n",
       "    </tr>\n",
       "    <tr>\n",
       "      <th>6</th>\n",
       "      <td>DB17</td>\n",
       "      <td>45.60825</td>\n",
       "      <td>7.055429</td>\n",
       "      <td>2426.490479</td>\n",
       "      <td>2985.0</td>\n",
       "      <td>158.2504</td>\n",
       "      <td>0.932015</td>\n",
       "      <td>NaN</td>\n",
       "      <td>NaN</td>\n",
       "    </tr>\n",
       "  </tbody>\n",
       "</table>\n",
       "</div>"
      ],
      "text/plain": [
       "   name  centr_lat centr_long   centr_elev  relief       area   mean_sf  \\\n",
       "1  DB03  45.559216   7.208848  2509.038574  3307.0  147.70805   0.92084   \n",
       "2  DB04  45.564702   7.167557  2447.161865  3357.0   280.7161  0.918918   \n",
       "3  DB05  45.599736   7.348074  2453.679443  3382.0  257.59055  0.923094   \n",
       "6  DB17   45.60825   7.055429  2426.490479  2985.0   158.2504  0.932015   \n",
       "\n",
       "  qtz_pc error  \n",
       "1    NaN   NaN  \n",
       "2    NaN   NaN  \n",
       "3    NaN   NaN  \n",
       "6    NaN   NaN  "
      ]
     },
     "execution_count": 21,
     "metadata": {},
     "output_type": "execute_result"
    }
   ],
   "source": [
    "# calculate catchment statistics without the lithology correction\n",
    "rv.quartz = None # remove the 'quartz' raster from the imports\n",
    "stats4 = rv.catchment_stats()\n",
    "stats4 = stats4[stats4['centr_elev'].notna()] # remove empty rows\n",
    "stats4 # display catchment statistics"
   ]
  },
  {
   "cell_type": "markdown",
   "id": "7ab51096",
   "metadata": {},
   "source": [
    "# Sample data\n",
    "(see also http://stoneage.hzdr.de/docs/documentation.html#input_format)\n",
    "\n",
    "Columns that are recognized (processed) by the calculator are `name`, `press_flag`, `thickness`, `density`, `shielding`, `erate`, `year`, `nuclide`, `mineral`, `N`, `delN` and `standardization`.\n",
    "\n",
    "Mandatory columns are:\n",
    "- `name` : Sample name consisting of letters, numbers and hyphens; avoid names that may be misinterpreted as numbers: use 'A2' instead of '2'.\n",
    "- `N` and `delN` : Nuclide concentration and uncertainty in atoms/grams quartz.\n",
    "\n",
    "Optional columns are:\n",
    "- `press_flag` : Atmospheric pressure model, 'std' or 'ant'; the default is 'std'.\n",
    "- `density` : Subtrate density in g/cm3; the default is 2.65 g/cm3.\n",
    "- `year` : Year of sampling; the default is 2010.\n",
    "- `nuclide` : 'Be-10' or 'Al-26'; the default is 'Be-10'.\n",
    "- `shielding` : A catchmentwide shielding factor; these values are ignored if shielding is calculated from a raster dataset, the default is 1.\n",
    "\n",
    "Default values (see `riversand.params.default_values`) are used if a column is missing. Columns `thickness`, `erate` and `mineral` (only valid value: 'quartz') are irrelevant for the calculation of catchmentwide erosion rates, but if they are present they must contain valid values. All additional columns are ignored.\n",
    "\n",
    "The `name` is used to match samples to catchment polygons. If several samples were measured from the same location, or if both Al-26 and Be-10 were measured, the data must be in separate rows with the same sample name.\n",
    "\n",
    "The calculator assumes standardizations of '07KNSTD' for Be-10 and 'KNSTD' for Al-26 data. If your samples have been measured against a different standard you can use the following correction factors to re-standardize your data:<br>\n",
    "http://hess.ess.washington.edu/math/docs/al_be_v22/AlBe_standardization_table.pdf<br>\n",
    "(see also http://stoneage.hzdr.de/docs/documentation.html#standardization)"
   ]
  },
  {
   "cell_type": "markdown",
   "id": "ee6b02d5",
   "metadata": {},
   "source": [
    "## Version of the online calculator"
   ]
  },
  {
   "cell_type": "code",
   "execution_count": 22,
   "id": "0410ab05",
   "metadata": {},
   "outputs": [
    {
     "data": {
      "text/plain": [
       "{'wrapper': '3.0',\n",
       " 'validate': 'validate_v3_input.m - 3.0',\n",
       " 'erates': '3.0',\n",
       " 'muons': '3.1',\n",
       " 'consts': '2022-12-03'}"
      ]
     },
     "execution_count": 22,
     "metadata": {},
     "output_type": "execute_result"
    }
   ],
   "source": [
    "# Get the version of the online calculator used for the calculation\n",
    "riversand.get_version() "
   ]
  },
  {
   "cell_type": "code",
   "execution_count": null,
   "id": "53a9e6e4",
   "metadata": {},
   "outputs": [],
   "source": []
  }
 ],
 "metadata": {
  "kernelspec": {
   "display_name": "Python 3 (ipykernel)",
   "language": "python",
   "name": "python3"
  },
  "language_info": {
   "codemirror_mode": {
    "name": "ipython",
    "version": 3
   },
   "file_extension": ".py",
   "mimetype": "text/x-python",
   "name": "python",
   "nbconvert_exporter": "python",
   "pygments_lexer": "ipython3",
   "version": "3.10.9"
  }
 },
 "nbformat": 4,
 "nbformat_minor": 5
}
