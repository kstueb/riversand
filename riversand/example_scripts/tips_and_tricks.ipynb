{
 "cells": [
  {
   "cell_type": "markdown",
   "id": "7a9734dc",
   "metadata": {},
   "source": [
    "# Tips and tricks\n",
    "This script uses the example datasets in the folder `test_data/`."
   ]
  },
  {
   "cell_type": "code",
   "execution_count": 1,
   "id": "d327053f",
   "metadata": {},
   "outputs": [],
   "source": [
    "import pandas as pd\n",
    "import numpy as np\n",
    "\n",
    "import riversand"
   ]
  },
  {
   "cell_type": "markdown",
   "id": "c0c53fce",
   "metadata": {},
   "source": [
    "## 1. Validating input data\n",
    "Use the function `rv.validate()` to validate the input data, e.g. the projection and resolution of geospatial data.\n",
    "\n",
    "Use `rv.elevation`, `rv.shielding` and `rv.quartz` to display information about these datasets or \n",
    "`rv` to display a summary of all data uploaded to the project."
   ]
  },
  {
   "cell_type": "code",
   "execution_count": 2,
   "id": "0bb1c4a5",
   "metadata": {},
   "outputs": [],
   "source": [
    "# Add raster data:\n",
    "rv = riversand.Riversand(\"test_data\")\n",
    "rv.add_raster('dem_utm_35m.tif', dtype='elevation')\n",
    "rv.add_raster('toposhielding_50m.tif', dtype='shielding') # optional \n",
    "rv.add_raster('quartz_35m.tif', dtype='quartz') # optional"
   ]
  },
  {
   "cell_type": "code",
   "execution_count": 3,
   "id": "7aabaa8e",
   "metadata": {},
   "outputs": [
    {
     "name": "stdout",
     "output_type": "stream",
     "text": [
      "\n",
      "Conflicting projections in raster data\n",
      "No sample data defined\n",
      "No catchment data defined\n"
     ]
    }
   ],
   "source": [
    "# try and validate:\n",
    "rv.validate()"
   ]
  },
  {
   "cell_type": "code",
   "execution_count": 4,
   "id": "cd916d91",
   "metadata": {},
   "outputs": [
    {
     "data": {
      "text/plain": [
       "dtype : shielding\n",
       "fname : test_data/toposhielding_50m.tif\n",
       "src   : <closed DatasetReader name='test_data/toposhielding_50m.tif' mode='r'>\n",
       "epsg  : 32632\n",
       "res   : (50.005889281507656, 49.98201438848921)"
      ]
     },
     "execution_count": 4,
     "metadata": {},
     "output_type": "execute_result"
    }
   ],
   "source": [
    "# display information about the shielding raster (~50 m resolution):\n",
    "rv.shielding"
   ]
  },
  {
   "cell_type": "code",
   "execution_count": 5,
   "id": "858c89f2",
   "metadata": {},
   "outputs": [
    {
     "name": "stdout",
     "output_type": "stream",
     "text": [
      "\n",
      "Raster data valid\n",
      "No sample data defined\n",
      "No catchment data defined\n"
     ]
    }
   ],
   "source": [
    "# upload a 35m-resolution shielding raster and repeat validation:\n",
    "rv.add_raster('toposhielding_35m.tif', dtype='shielding') \n",
    "rv.validate()"
   ]
  },
  {
   "cell_type": "markdown",
   "id": "5e3433bd",
   "metadata": {},
   "source": [
    "### A word of caution\n",
    "\n",
    "The raster data needs to be a **geotiff** with a valid **projection**, i.e. a **coordinate system** and a **geotransform**. \n",
    "\n",
    "In the following example, the file `toposhielding_35m_noproj1.tif` data was generated with the TopoToolbox `toposhielding.m` function but without the Matlab Mapping toolbox, therefore geospatial data is missing. Adding the raster raises a `NotGeoreferenceWarning`. The coordinate system is correctly identified as epsg: 32632 (UTM zone 32N), but the resolution is incorrectly set to default (1.0, 1.0). Without a valid projection, these data cannot be used."
   ]
  },
  {
   "cell_type": "code",
   "execution_count": 6,
   "id": "c6e7d4d0",
   "metadata": {},
   "outputs": [
    {
     "name": "stderr",
     "output_type": "stream",
     "text": [
      "/home/user/miniconda3/envs/riversand/lib/python3.10/site-packages/rasterio/__init__.py:304: NotGeoreferencedWarning: Dataset has no geotransform, gcps, or rpcs. The identity matrix will be returned.\n",
      "  dataset = DatasetReader(path, driver=driver, sharing=sharing, **kwargs)\n"
     ]
    }
   ],
   "source": [
    "rv = riversand.Riversand(\"test_data\")\n",
    "rv.add_raster('dem_utm_35m.tif', dtype='elevation')\n",
    "rv.add_raster('toposhielding_35m_noproj1.tif', dtype='shielding') "
   ]
  },
  {
   "cell_type": "code",
   "execution_count": 7,
   "id": "9eac2c9c",
   "metadata": {},
   "outputs": [
    {
     "data": {
      "text/plain": [
       "---------------\n",
       "Raster data:\n",
       "\n",
       "dtype : elevation\n",
       "fname : test_data/dem_utm_35m.tif\n",
       "src   : <closed DatasetReader name='test_data/dem_utm_35m.tif' mode='r'>\n",
       "epsg  : 32632\n",
       "res   : (35.0, 35.0)\n",
       "\n",
       "dtype : shielding\n",
       "fname : test_data/toposhielding_35m_noproj1.tif\n",
       "src   : <closed DatasetReader name='test_data/toposhielding_35m_noproj1.tif' mode='r'>\n",
       "epsg  : 32632\n",
       "res   : (1.0, 1.0)"
      ]
     },
     "execution_count": 7,
     "metadata": {},
     "output_type": "execute_result"
    }
   ],
   "source": [
    "rv"
   ]
  },
  {
   "cell_type": "code",
   "execution_count": 8,
   "id": "5f5bd6ae",
   "metadata": {},
   "outputs": [
    {
     "data": {
      "text/plain": [
       "---------------\n",
       "Raster data:\n",
       "\n",
       "dtype : elevation\n",
       "fname : test_data/dem_utm_35m.tif\n",
       "src   : <closed DatasetReader name='test_data/dem_utm_35m.tif' mode='r'>\n",
       "epsg  : 32632\n",
       "res   : (35.0, 35.0)"
      ]
     },
     "execution_count": 8,
     "metadata": {},
     "output_type": "execute_result"
    }
   ],
   "source": [
    "# remove a raster from the project\n",
    "rv.shielding = None\n",
    "rv"
   ]
  },
  {
   "cell_type": "markdown",
   "id": "a88b58f3",
   "metadata": {},
   "source": [
    "## 2. Validating the catchment shapefile\n",
    "The catchment shapefile must have the same projection as the raster data and can only be validated if raster data have been uploaded."
   ]
  },
  {
   "cell_type": "code",
   "execution_count": 9,
   "id": "91dc87a2",
   "metadata": {},
   "outputs": [
    {
     "name": "stdout",
     "output_type": "stream",
     "text": [
      "\n",
      "No elevation raster defined\n",
      "No sample data defined\n",
      "No valid raster data, cannot validate shapefile projection\n"
     ]
    }
   ],
   "source": [
    "rv = riversand.Riversand(\"test_data\")\n",
    "rv.add_catchments('test_single_catchment.shp')\n",
    "rv.validate()"
   ]
  },
  {
   "cell_type": "code",
   "execution_count": 10,
   "id": "a6865353",
   "metadata": {},
   "outputs": [
    {
     "name": "stdout",
     "output_type": "stream",
     "text": [
      "\n",
      "Raster data valid\n",
      "No sample data defined\n",
      "Shapefile projection (epsg=32632) does not match raster projection (epsg=4326)\n"
     ]
    }
   ],
   "source": [
    "rv.add_raster('dem_WGS.tif', dtype='elevation')\n",
    "rv.validate()"
   ]
  },
  {
   "cell_type": "code",
   "execution_count": 11,
   "id": "6bfab23c",
   "metadata": {},
   "outputs": [
    {
     "name": "stdout",
     "output_type": "stream",
     "text": [
      "\n",
      "Raster data valid\n",
      "No sample data defined\n",
      "Catchment data valid\n"
     ]
    }
   ],
   "source": [
    "rv.add_raster('dem_utm_35m.tif', dtype='elevation')\n",
    "rv.validate()"
   ]
  },
  {
   "cell_type": "markdown",
   "id": "d00d361b",
   "metadata": {},
   "source": [
    "## 2.1 Validating multi-catchment datasets\n",
    "A shapefile with more than one polygon is considered a multi-catchment dataset and requires to define the attribute field (\"catchment identifier\") that has the catchment names (`rv.set_cid()`)."
   ]
  },
  {
   "cell_type": "code",
   "execution_count": 12,
   "id": "a47503b0",
   "metadata": {},
   "outputs": [
    {
     "name": "stdout",
     "output_type": "stream",
     "text": [
      "\n",
      "Raster data valid\n",
      "No sample data defined\n",
      "No catchment identifier defined; use .set_cid()\n"
     ]
    }
   ],
   "source": [
    "rv = riversand.Riversand(\"test_data\")\n",
    "rv.add_raster('dem_utm_35m.tif', dtype='elevation')\n",
    "rv.add_catchments('test_multi_catchment.shp')\n",
    "rv.validate()"
   ]
  },
  {
   "cell_type": "code",
   "execution_count": 13,
   "id": "2c6d1eb5",
   "metadata": {},
   "outputs": [
    {
     "data": {
      "text/plain": [
       "fname : test_data/test_multi_catchment.shp\n",
       "src   : <closed Collection 'test_data/test_multi_catchment.shp:test_multi_catchment', mode 'r' at 0x7f4051993ac0>\n",
       "attrs : ['name', 'id', 'area_km2']\n",
       "len   : 8\n",
       "epsg  : 32632"
      ]
     },
     "execution_count": 13,
     "metadata": {},
     "output_type": "execute_result"
    }
   ],
   "source": [
    "# Available attribute fields are listed under 'attrs':\n",
    "rv.catchments"
   ]
  },
  {
   "cell_type": "code",
   "execution_count": 14,
   "id": "ea1b07ad",
   "metadata": {},
   "outputs": [
    {
     "name": "stdout",
     "output_type": "stream",
     "text": [
      "\n",
      "Raster data valid\n",
      "No sample data defined\n",
      "Catchment data valid\n",
      "\n",
      "Valid catchments / samples:\n",
      "   No matches found\n"
     ]
    }
   ],
   "source": [
    "# Set catchment identifier 'id':\n",
    "rv.set_cid('id')\n",
    "rv.validate()"
   ]
  },
  {
   "cell_type": "markdown",
   "id": "e31cfe08",
   "metadata": {},
   "source": [
    "If sample data have been added to the project, validation identifies the \"valid\" catchments (i.e. sampled data is available, no duplicate in the shapefile) :"
   ]
  },
  {
   "cell_type": "code",
   "execution_count": 15,
   "id": "4162d78a",
   "metadata": {},
   "outputs": [
    {
     "data": {
      "text/html": [
       "<div>\n",
       "<style scoped>\n",
       "    .dataframe tbody tr th:only-of-type {\n",
       "        vertical-align: middle;\n",
       "    }\n",
       "\n",
       "    .dataframe tbody tr th {\n",
       "        vertical-align: top;\n",
       "    }\n",
       "\n",
       "    .dataframe thead th {\n",
       "        text-align: right;\n",
       "    }\n",
       "</style>\n",
       "<table border=\"1\" class=\"dataframe\">\n",
       "  <thead>\n",
       "    <tr style=\"text-align: right;\">\n",
       "      <th></th>\n",
       "      <th>name</th>\n",
       "      <th>density</th>\n",
       "      <th>shielding</th>\n",
       "      <th>nuclide</th>\n",
       "      <th>N</th>\n",
       "      <th>delN</th>\n",
       "      <th>lat</th>\n",
       "      <th>long</th>\n",
       "      <th>elev</th>\n",
       "    </tr>\n",
       "  </thead>\n",
       "  <tbody>\n",
       "    <tr>\n",
       "      <th>0</th>\n",
       "      <td>DB01</td>\n",
       "      <td>2.7</td>\n",
       "      <td>0.92</td>\n",
       "      <td>Be-10</td>\n",
       "      <td>12900</td>\n",
       "      <td>700</td>\n",
       "      <td>45.8040</td>\n",
       "      <td>6.9653</td>\n",
       "      <td>1230</td>\n",
       "    </tr>\n",
       "    <tr>\n",
       "      <th>1</th>\n",
       "      <td>DB02</td>\n",
       "      <td>2.7</td>\n",
       "      <td>0.94</td>\n",
       "      <td>Be-10</td>\n",
       "      <td>10800</td>\n",
       "      <td>700</td>\n",
       "      <td>45.7167</td>\n",
       "      <td>7.1101</td>\n",
       "      <td>783</td>\n",
       "    </tr>\n",
       "    <tr>\n",
       "      <th>2</th>\n",
       "      <td>DB03</td>\n",
       "      <td>2.7</td>\n",
       "      <td>0.94</td>\n",
       "      <td>Be-10</td>\n",
       "      <td>23500</td>\n",
       "      <td>1400</td>\n",
       "      <td>45.6925</td>\n",
       "      <td>7.1935</td>\n",
       "      <td>699</td>\n",
       "    </tr>\n",
       "    <tr>\n",
       "      <th>3</th>\n",
       "      <td>DB04</td>\n",
       "      <td>2.7</td>\n",
       "      <td>0.94</td>\n",
       "      <td>Be-10</td>\n",
       "      <td>22000</td>\n",
       "      <td>1100</td>\n",
       "      <td>45.7003</td>\n",
       "      <td>7.2019</td>\n",
       "      <td>664</td>\n",
       "    </tr>\n",
       "    <tr>\n",
       "      <th>4</th>\n",
       "      <td>DB05</td>\n",
       "      <td>2.7</td>\n",
       "      <td>0.95</td>\n",
       "      <td>Be-10</td>\n",
       "      <td>20500</td>\n",
       "      <td>1000</td>\n",
       "      <td>45.7001</td>\n",
       "      <td>7.2337</td>\n",
       "      <td>638</td>\n",
       "    </tr>\n",
       "    <tr>\n",
       "      <th>5</th>\n",
       "      <td>DB06</td>\n",
       "      <td>2.7</td>\n",
       "      <td>0.95</td>\n",
       "      <td>Be-10</td>\n",
       "      <td>15400</td>\n",
       "      <td>800</td>\n",
       "      <td>45.5228</td>\n",
       "      <td>7.8375</td>\n",
       "      <td>251</td>\n",
       "    </tr>\n",
       "    <tr>\n",
       "      <th>6</th>\n",
       "      <td>DB07</td>\n",
       "      <td>2.7</td>\n",
       "      <td>0.95</td>\n",
       "      <td>Be-10</td>\n",
       "      <td>22500</td>\n",
       "      <td>2600</td>\n",
       "      <td>45.5962</td>\n",
       "      <td>7.7956</td>\n",
       "      <td>325</td>\n",
       "    </tr>\n",
       "    <tr>\n",
       "      <th>7</th>\n",
       "      <td>DB08</td>\n",
       "      <td>2.7</td>\n",
       "      <td>0.96</td>\n",
       "      <td>Be-10</td>\n",
       "      <td>48500</td>\n",
       "      <td>2100</td>\n",
       "      <td>45.6118</td>\n",
       "      <td>7.7310</td>\n",
       "      <td>373</td>\n",
       "    </tr>\n",
       "    <tr>\n",
       "      <th>8</th>\n",
       "      <td>DB12</td>\n",
       "      <td>2.7</td>\n",
       "      <td>0.95</td>\n",
       "      <td>Be-10</td>\n",
       "      <td>12600</td>\n",
       "      <td>800</td>\n",
       "      <td>45.7183</td>\n",
       "      <td>7.2651</td>\n",
       "      <td>594</td>\n",
       "    </tr>\n",
       "    <tr>\n",
       "      <th>9</th>\n",
       "      <td>DB17</td>\n",
       "      <td>2.7</td>\n",
       "      <td>0.95</td>\n",
       "      <td>Be-10</td>\n",
       "      <td>27100</td>\n",
       "      <td>1300</td>\n",
       "      <td>45.7039</td>\n",
       "      <td>7.1622</td>\n",
       "      <td>689</td>\n",
       "    </tr>\n",
       "  </tbody>\n",
       "</table>\n",
       "</div>"
      ],
      "text/plain": [
       "   name  density  shielding nuclide      N  delN      lat    long  elev\n",
       "0  DB01      2.7       0.92   Be-10  12900   700  45.8040  6.9653  1230\n",
       "1  DB02      2.7       0.94   Be-10  10800   700  45.7167  7.1101   783\n",
       "2  DB03      2.7       0.94   Be-10  23500  1400  45.6925  7.1935   699\n",
       "3  DB04      2.7       0.94   Be-10  22000  1100  45.7003  7.2019   664\n",
       "4  DB05      2.7       0.95   Be-10  20500  1000  45.7001  7.2337   638\n",
       "5  DB06      2.7       0.95   Be-10  15400   800  45.5228  7.8375   251\n",
       "6  DB07      2.7       0.95   Be-10  22500  2600  45.5962  7.7956   325\n",
       "7  DB08      2.7       0.96   Be-10  48500  2100  45.6118  7.7310   373\n",
       "8  DB12      2.7       0.95   Be-10  12600   800  45.7183  7.2651   594\n",
       "9  DB17      2.7       0.95   Be-10  27100  1300  45.7039  7.1622   689"
      ]
     },
     "execution_count": 15,
     "metadata": {},
     "output_type": "execute_result"
    }
   ],
   "source": [
    "rv.add_samples('test_samples.ods')\n",
    "rv.samples"
   ]
  },
  {
   "cell_type": "code",
   "execution_count": 16,
   "id": "83c37681",
   "metadata": {},
   "outputs": [
    {
     "name": "stdout",
     "output_type": "stream",
     "text": [
      "\n",
      "Raster data valid\n",
      "Sample data valid\n",
      "Catchment data valid\n",
      "\n",
      "Valid catchments / samples:\n",
      "   No matches found\n"
     ]
    }
   ],
   "source": [
    "rv.validate()"
   ]
  },
  {
   "cell_type": "markdown",
   "id": "bb95004c",
   "metadata": {},
   "source": [
    "Oops. Use `rv.catchments.get_names()` to show the names of all polygons in the shapefile including duplicates and unnamed catchments.<br>\n",
    "Use `rv.get_valid_catchments()` to show the names of the \"valid\" catchments.\n",
    "\n",
    "In the current example, the sample names are stored in the attribute field 'name' but we mistakenly set the catchment identifier to 'id'."
   ]
  },
  {
   "cell_type": "code",
   "execution_count": 17,
   "id": "3f08584e",
   "metadata": {},
   "outputs": [
    {
     "data": {
      "text/plain": [
       "['1', '2', '3', '4', '5', '6', '7', '8']"
      ]
     },
     "execution_count": 17,
     "metadata": {},
     "output_type": "execute_result"
    }
   ],
   "source": [
    "# Get all catchment names incl. duplicates and unnamed catchments:\n",
    "rv.catchments.get_names()"
   ]
  },
  {
   "cell_type": "code",
   "execution_count": 18,
   "id": "c018c68f",
   "metadata": {},
   "outputs": [
    {
     "data": {
      "text/plain": [
       "'id'"
      ]
     },
     "execution_count": 18,
     "metadata": {},
     "output_type": "execute_result"
    }
   ],
   "source": [
    "# Check which catchment identifier is currently set:\n",
    "rv.cid"
   ]
  },
  {
   "cell_type": "code",
   "execution_count": 19,
   "id": "05ba3b6d",
   "metadata": {},
   "outputs": [
    {
     "name": "stdout",
     "output_type": "stream",
     "text": [
      "\n",
      "Raster data valid\n",
      "Sample data valid\n",
      "Catchment data valid\n",
      "\n",
      "Valid catchments / samples:\n",
      "   Found 5 match(es)\n"
     ]
    }
   ],
   "source": [
    "# Fix the problem:\n",
    "rv.set_cid('name')\n",
    "rv.validate()"
   ]
  },
  {
   "cell_type": "code",
   "execution_count": 20,
   "id": "932daac7",
   "metadata": {},
   "outputs": [
    {
     "data": {
      "text/plain": [
       "['DB02', 'DB03', 'DB04', 'DB05', 'DB17']"
      ]
     },
     "execution_count": 20,
     "metadata": {},
     "output_type": "execute_result"
    }
   ],
   "source": [
    "# Show the valid catchments:\n",
    "rv.get_valid_catchments()"
   ]
  },
  {
   "cell_type": "markdown",
   "id": "f5d8db1e",
   "metadata": {},
   "source": [
    "## 3. Sample data\n",
    "Columns that are recognized (processed) by the calculator are `name`, `press_flag`, `thickness`, `density`, `shielding`, `erate`, `year`, `nuclide`, `mineral`, `N`, `delN` and `standardization`<br>(see http://hess.ess.washington.edu/math/docs/v3/v3_input_explained.html).\n",
    "\n",
    "Mandatory columns are:\n",
    "- `name` : Can include letters, numbers and hyphens; avoid names that may be misinterpreted as numbers: use 'A2.1' or 'A2-1' instead of '2.1'.\n",
    "- `N` and `delN` : Nuclide concentration and uncertainty in atoms/grams quartz.\n",
    "\n",
    "Optional columns are:\n",
    "- `press_flag` : 'std' or 'ant'; the default is 'std'.\n",
    "- `density` : The subtrate density in g/cm3; the default is 2.65.\n",
    "- `year` : The year of sampling; the default is 2010.\n",
    "- `nuclide` : 'Be-10' or 'Al-26'; the default is 'Be-10'.\n",
    "- `shielding` : A catchmentwide shielding factor; the values are ignored if shielding is calculated from a raster dataset, the default is 1.\n",
    "\n",
    "Default values (see `riversand.params.default_values`) are used if a column is missing. Columns `thickness`, `erate` and `mineral` (only valid value: 'quartz') are irrelevant for the calculation of catchmentwide erosion rates, but if they are present they must contain valid values. All additional columns are ignored.\n",
    "\n",
    "The `name` is used to match samples to catchment polygons. If several samples were measured from the same location, or if both Al-26 and Be-10 were measured, the data must be in separate rows with the same sample name.\n",
    "\n",
    "The calculator assumes **standardizations** of '07KNSTD' for Be-10 and 'KNSTD' for Al-26 data. If your samples have been measured against a different standard you can use the following correction factors to restandardize your data: http://hess.ess.washington.edu/math/docs/al_be_v22/AlBe_standardization_table.pdf (see also\n",
    "http://hess.ess.washington.edu/math/docs/al_be_v22/standard_names.html)\n",
    "\n",
    "Sample data can be added manually from a python dictionary or uploaded from a spreadsheet:"
   ]
  },
  {
   "cell_type": "code",
   "execution_count": 21,
   "id": "e34b4e13",
   "metadata": {},
   "outputs": [
    {
     "data": {
      "text/html": [
       "<div>\n",
       "<style scoped>\n",
       "    .dataframe tbody tr th:only-of-type {\n",
       "        vertical-align: middle;\n",
       "    }\n",
       "\n",
       "    .dataframe tbody tr th {\n",
       "        vertical-align: top;\n",
       "    }\n",
       "\n",
       "    .dataframe thead th {\n",
       "        text-align: right;\n",
       "    }\n",
       "</style>\n",
       "<table border=\"1\" class=\"dataframe\">\n",
       "  <thead>\n",
       "    <tr style=\"text-align: right;\">\n",
       "      <th></th>\n",
       "      <th>name</th>\n",
       "      <th>press_flag</th>\n",
       "      <th>thickness</th>\n",
       "      <th>density</th>\n",
       "      <th>shielding</th>\n",
       "      <th>erate</th>\n",
       "      <th>year</th>\n",
       "      <th>nuclide</th>\n",
       "      <th>mineral</th>\n",
       "      <th>N</th>\n",
       "      <th>delN</th>\n",
       "      <th>standardization</th>\n",
       "    </tr>\n",
       "  </thead>\n",
       "  <tbody>\n",
       "    <tr>\n",
       "      <th>0</th>\n",
       "      <td>Test</td>\n",
       "      <td>std</td>\n",
       "      <td>0</td>\n",
       "      <td>2.65</td>\n",
       "      <td>1.0</td>\n",
       "      <td>0</td>\n",
       "      <td>2010</td>\n",
       "      <td>Be-10</td>\n",
       "      <td>quartz</td>\n",
       "      <td>100000</td>\n",
       "      <td>1000</td>\n",
       "      <td>07KNSTD</td>\n",
       "    </tr>\n",
       "  </tbody>\n",
       "</table>\n",
       "</div>"
      ],
      "text/plain": [
       "   name press_flag  thickness  density  shielding  erate  year nuclide  \\\n",
       "0  Test        std          0     2.65        1.0      0  2010   Be-10   \n",
       "\n",
       "  mineral       N  delN standardization  \n",
       "0  quartz  100000  1000         07KNSTD  "
      ]
     },
     "execution_count": 21,
     "metadata": {},
     "output_type": "execute_result"
    }
   ],
   "source": [
    "# Add from a python dictionary (mandatory keys 'N' and 'delN'):\n",
    "rv.add_samples({'N': 1e5, 'delN': 1e3}) # default values for all other parameters\n",
    "rv.samples"
   ]
  },
  {
   "cell_type": "code",
   "execution_count": 22,
   "id": "5c52c8bf",
   "metadata": {},
   "outputs": [
    {
     "data": {
      "text/html": [
       "<div>\n",
       "<style scoped>\n",
       "    .dataframe tbody tr th:only-of-type {\n",
       "        vertical-align: middle;\n",
       "    }\n",
       "\n",
       "    .dataframe tbody tr th {\n",
       "        vertical-align: top;\n",
       "    }\n",
       "\n",
       "    .dataframe thead th {\n",
       "        text-align: right;\n",
       "    }\n",
       "</style>\n",
       "<table border=\"1\" class=\"dataframe\">\n",
       "  <thead>\n",
       "    <tr style=\"text-align: right;\">\n",
       "      <th></th>\n",
       "      <th>name</th>\n",
       "      <th>press_flag</th>\n",
       "      <th>thickness</th>\n",
       "      <th>density</th>\n",
       "      <th>shielding</th>\n",
       "      <th>erate</th>\n",
       "      <th>year</th>\n",
       "      <th>nuclide</th>\n",
       "      <th>mineral</th>\n",
       "      <th>N</th>\n",
       "      <th>delN</th>\n",
       "      <th>standardization</th>\n",
       "    </tr>\n",
       "  </thead>\n",
       "  <tbody>\n",
       "    <tr>\n",
       "      <th>0</th>\n",
       "      <td>Test</td>\n",
       "      <td>std</td>\n",
       "      <td>0</td>\n",
       "      <td>2.65</td>\n",
       "      <td>1.0</td>\n",
       "      <td>0</td>\n",
       "      <td>2010</td>\n",
       "      <td>Be-10</td>\n",
       "      <td>quartz</td>\n",
       "      <td>100000</td>\n",
       "      <td>1000</td>\n",
       "      <td>07KNSTD</td>\n",
       "    </tr>\n",
       "    <tr>\n",
       "      <th>1</th>\n",
       "      <td>Test</td>\n",
       "      <td>std</td>\n",
       "      <td>0</td>\n",
       "      <td>2.65</td>\n",
       "      <td>1.0</td>\n",
       "      <td>0</td>\n",
       "      <td>2010</td>\n",
       "      <td>Al-26</td>\n",
       "      <td>quartz</td>\n",
       "      <td>600000</td>\n",
       "      <td>6000</td>\n",
       "      <td>KNSTD</td>\n",
       "    </tr>\n",
       "  </tbody>\n",
       "</table>\n",
       "</div>"
      ],
      "text/plain": [
       "   name press_flag  thickness  density  shielding  erate  year nuclide  \\\n",
       "0  Test        std          0     2.65        1.0      0  2010   Be-10   \n",
       "1  Test        std          0     2.65        1.0      0  2010   Al-26   \n",
       "\n",
       "  mineral       N  delN standardization  \n",
       "0  quartz  100000  1000         07KNSTD  \n",
       "1  quartz  600000  6000           KNSTD  "
      ]
     },
     "execution_count": 22,
     "metadata": {},
     "output_type": "execute_result"
    }
   ],
   "source": [
    "# Add a sample to an existing dataset:\n",
    "rv.add_samples({'N': 6e5, 'delN': 6e3, 'nuclide': 'Al-26'}, add=True)\n",
    "rv.samples"
   ]
  },
  {
   "cell_type": "markdown",
   "id": "10e37ea5",
   "metadata": {},
   "source": [
    "There is some validation when sample data are added:"
   ]
  },
  {
   "cell_type": "code",
   "execution_count": 23,
   "id": "387f88a5",
   "metadata": {},
   "outputs": [
    {
     "name": "stdout",
     "output_type": "stream",
     "text": [
      "Error adding sample data from dictionary:\n",
      "   Invalid sample data: Illegal nuclide\n"
     ]
    },
    {
     "data": {
      "text/html": [
       "<div>\n",
       "<style scoped>\n",
       "    .dataframe tbody tr th:only-of-type {\n",
       "        vertical-align: middle;\n",
       "    }\n",
       "\n",
       "    .dataframe tbody tr th {\n",
       "        vertical-align: top;\n",
       "    }\n",
       "\n",
       "    .dataframe thead th {\n",
       "        text-align: right;\n",
       "    }\n",
       "</style>\n",
       "<table border=\"1\" class=\"dataframe\">\n",
       "  <thead>\n",
       "    <tr style=\"text-align: right;\">\n",
       "      <th></th>\n",
       "      <th>name</th>\n",
       "      <th>press_flag</th>\n",
       "      <th>thickness</th>\n",
       "      <th>density</th>\n",
       "      <th>shielding</th>\n",
       "      <th>erate</th>\n",
       "      <th>year</th>\n",
       "      <th>nuclide</th>\n",
       "      <th>mineral</th>\n",
       "      <th>N</th>\n",
       "      <th>delN</th>\n",
       "      <th>standardization</th>\n",
       "    </tr>\n",
       "  </thead>\n",
       "  <tbody>\n",
       "    <tr>\n",
       "      <th>0</th>\n",
       "      <td>Test</td>\n",
       "      <td>std</td>\n",
       "      <td>0</td>\n",
       "      <td>2.65</td>\n",
       "      <td>1.0</td>\n",
       "      <td>0</td>\n",
       "      <td>2010</td>\n",
       "      <td>Be-10</td>\n",
       "      <td>quartz</td>\n",
       "      <td>100000</td>\n",
       "      <td>1000</td>\n",
       "      <td>07KNSTD</td>\n",
       "    </tr>\n",
       "    <tr>\n",
       "      <th>1</th>\n",
       "      <td>Test</td>\n",
       "      <td>std</td>\n",
       "      <td>0</td>\n",
       "      <td>2.65</td>\n",
       "      <td>1.0</td>\n",
       "      <td>0</td>\n",
       "      <td>2010</td>\n",
       "      <td>Al-26</td>\n",
       "      <td>quartz</td>\n",
       "      <td>600000</td>\n",
       "      <td>6000</td>\n",
       "      <td>KNSTD</td>\n",
       "    </tr>\n",
       "  </tbody>\n",
       "</table>\n",
       "</div>"
      ],
      "text/plain": [
       "   name press_flag  thickness  density  shielding  erate  year nuclide  \\\n",
       "0  Test        std          0     2.65        1.0      0  2010   Be-10   \n",
       "1  Test        std          0     2.65        1.0      0  2010   Al-26   \n",
       "\n",
       "  mineral       N  delN standardization  \n",
       "0  quartz  100000  1000         07KNSTD  \n",
       "1  quartz  600000  6000           KNSTD  "
      ]
     },
     "execution_count": 23,
     "metadata": {},
     "output_type": "execute_result"
    }
   ],
   "source": [
    "rv.add_samples({'N': 6e5, 'delN': 6e3, 'nuclide': 'Cl-36'}, add=True)\n",
    "rv.samples"
   ]
  },
  {
   "cell_type": "markdown",
   "id": "96bd6498",
   "metadata": {},
   "source": [
    "Remember that a re-standardization is not performed by the calculator:"
   ]
  },
  {
   "cell_type": "code",
   "execution_count": 24,
   "id": "d7245b32",
   "metadata": {},
   "outputs": [
    {
     "name": "stdout",
     "output_type": "stream",
     "text": [
      "Error adding sample data from dictionary:\n",
      "   Invalid sample data: Illegal standardization\n"
     ]
    },
    {
     "data": {
      "text/html": [
       "<div>\n",
       "<style scoped>\n",
       "    .dataframe tbody tr th:only-of-type {\n",
       "        vertical-align: middle;\n",
       "    }\n",
       "\n",
       "    .dataframe tbody tr th {\n",
       "        vertical-align: top;\n",
       "    }\n",
       "\n",
       "    .dataframe thead th {\n",
       "        text-align: right;\n",
       "    }\n",
       "</style>\n",
       "<table border=\"1\" class=\"dataframe\">\n",
       "  <thead>\n",
       "    <tr style=\"text-align: right;\">\n",
       "      <th></th>\n",
       "      <th>name</th>\n",
       "      <th>press_flag</th>\n",
       "      <th>thickness</th>\n",
       "      <th>density</th>\n",
       "      <th>shielding</th>\n",
       "      <th>erate</th>\n",
       "      <th>year</th>\n",
       "      <th>nuclide</th>\n",
       "      <th>mineral</th>\n",
       "      <th>N</th>\n",
       "      <th>delN</th>\n",
       "      <th>standardization</th>\n",
       "    </tr>\n",
       "  </thead>\n",
       "  <tbody>\n",
       "    <tr>\n",
       "      <th>0</th>\n",
       "      <td>Test</td>\n",
       "      <td>std</td>\n",
       "      <td>0</td>\n",
       "      <td>2.65</td>\n",
       "      <td>1.0</td>\n",
       "      <td>0</td>\n",
       "      <td>2010</td>\n",
       "      <td>Be-10</td>\n",
       "      <td>quartz</td>\n",
       "      <td>100000</td>\n",
       "      <td>1000</td>\n",
       "      <td>07KNSTD</td>\n",
       "    </tr>\n",
       "    <tr>\n",
       "      <th>1</th>\n",
       "      <td>Test</td>\n",
       "      <td>std</td>\n",
       "      <td>0</td>\n",
       "      <td>2.65</td>\n",
       "      <td>1.0</td>\n",
       "      <td>0</td>\n",
       "      <td>2010</td>\n",
       "      <td>Al-26</td>\n",
       "      <td>quartz</td>\n",
       "      <td>600000</td>\n",
       "      <td>6000</td>\n",
       "      <td>KNSTD</td>\n",
       "    </tr>\n",
       "  </tbody>\n",
       "</table>\n",
       "</div>"
      ],
      "text/plain": [
       "   name press_flag  thickness  density  shielding  erate  year nuclide  \\\n",
       "0  Test        std          0     2.65        1.0      0  2010   Be-10   \n",
       "1  Test        std          0     2.65        1.0      0  2010   Al-26   \n",
       "\n",
       "  mineral       N  delN standardization  \n",
       "0  quartz  100000  1000         07KNSTD  \n",
       "1  quartz  600000  6000           KNSTD  "
      ]
     },
     "execution_count": 24,
     "metadata": {},
     "output_type": "execute_result"
    }
   ],
   "source": [
    "rv.add_samples({'N': 95923, 'delN': 959, 'nuclide': 'Be-10', 'standardization': 'NIST_Certified'}, add=True)\n",
    "rv.samples"
   ]
  },
  {
   "cell_type": "code",
   "execution_count": 25,
   "id": "0768c39c",
   "metadata": {},
   "outputs": [
    {
     "data": {
      "text/plain": [
       "{'name': 'Test',\n",
       " 'press_flag': 'std',\n",
       " 'thickness': 0,\n",
       " 'density': 2.65,\n",
       " 'shielding': 1,\n",
       " 'erate': 0,\n",
       " 'year': 2010,\n",
       " 'nuclide': 'Be-10',\n",
       " 'mineral': 'quartz'}"
      ]
     },
     "execution_count": 25,
     "metadata": {},
     "output_type": "execute_result"
    }
   ],
   "source": [
    "# Show which default values are used for parameters that are not specified:\n",
    "riversand.params.default_values"
   ]
  },
  {
   "cell_type": "code",
   "execution_count": null,
   "id": "95398f7d",
   "metadata": {},
   "outputs": [],
   "source": []
  },
  {
   "cell_type": "code",
   "execution_count": null,
   "id": "f4bf0ebf",
   "metadata": {},
   "outputs": [],
   "source": []
  },
  {
   "cell_type": "code",
   "execution_count": null,
   "id": "53a9e6e4",
   "metadata": {},
   "outputs": [],
   "source": []
  },
  {
   "cell_type": "code",
   "execution_count": null,
   "id": "821c18e6",
   "metadata": {},
   "outputs": [],
   "source": []
  },
  {
   "cell_type": "code",
   "execution_count": null,
   "id": "4fb685f8",
   "metadata": {},
   "outputs": [],
   "source": []
  },
  {
   "cell_type": "code",
   "execution_count": null,
   "id": "51238657",
   "metadata": {},
   "outputs": [],
   "source": []
  }
 ],
 "metadata": {
  "kernelspec": {
   "display_name": "Python 3 (ipykernel)",
   "language": "python",
   "name": "python3"
  },
  "language_info": {
   "codemirror_mode": {
    "name": "ipython",
    "version": 3
   },
   "file_extension": ".py",
   "mimetype": "text/x-python",
   "name": "python",
   "nbconvert_exporter": "python",
   "pygments_lexer": "ipython3",
   "version": "3.10.9"
  }
 },
 "nbformat": 4,
 "nbformat_minor": 5
}
